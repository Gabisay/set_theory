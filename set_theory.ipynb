{
 "cells": [
  {
   "cell_type": "markdown",
   "metadata": {},
   "source": [
    "Discrete_Mathematics T-TH : 1:30pm - 3:00pm\n",
    "\n",
    "Name: Neil Francis E. Gabisay BS IT 1\n",
    "\n",
    "September 1, 2023\n",
    "___________________________________________________________________________________________________________________________________________________________________________________________________"
   ]
  },
  {
   "cell_type": "markdown",
   "metadata": {},
   "source": [
    "## PROVING IDENTITIES"
   ]
  },
  {
   "cell_type": "markdown",
   "metadata": {},
   "source": [
    "#### A.) $A$ \\ $B$ = $A \\cap B^\\complement$ \n",
    " \n",
    "\n",
    "$A$ \\ $B$ = $A \\cap B^\\complement$ \\\n",
    "If $X \\in A$ \\ $B$, then $X \\notin B$ \\\n",
    "If $X \\notin B$, then $X \\in B^\\complement$ \\\n",
    "If $X \\in B^\\complement$, then $X \\in A \\land X \\in B^\\complement$ \\\n",
    "If $X \\in A \\land X \\in B^\\complement$, then $X \\in A \\cap B^\\complement$ \\\n",
    "Therefore, $A$ \\ $B$ = $A \\cap B^\\complement$"
   ]
  },
  {
   "cell_type": "markdown",
   "metadata": {},
   "source": [
    "#### B.) $B$ = $(B \\cap A) \\cup (B \\cap A^\\complement)$\n",
    "\n",
    "$B$ = $(B \\cap A) \\cup (B \\cap A^\\complement)$ \\\n",
    "If $X \\in B$, then $X \\in (B \\cap A) \\lor X \\in (B \\cap A^\\complement)$ \\\n",
    "If $X \\in (B \\cap A) \\lor X \\in (B \\cap A^\\complement)$, then $X \\in (B \\cap A) \\cup (B \\cap A^\\complement)$ \\\n",
    "Therefore $B \\subseteq (B \\cap A) \\cup (B \\cap A^\\complement)$\n"
   ]
  },
  {
   "cell_type": "markdown",
   "metadata": {},
   "source": [
    "Now if $X \\in (B \\cap A) \\cup (B \\cap A^\\complement)$, then $X \\in (B \\cap A) \\lor X \\in (B \\cap A^\\complement)$ \\\n",
    "In either case, $X \\in B$  \\\n",
    "Therefore $(B \\cap A) \\cup (B \\cap A^\\complement) \\subseteq B$\n",
    "\n",
    "Since $B \\subseteq (B \\cap A) \\cup (B \\cap A^\\complement)$ and $(B \\cap A) \\cup (B \\cap A^\\complement) \\subseteq B$, it follows $B$ = $(B \\cap A) \\cup (B \\cap A^\\complement)$"
   ]
  },
  {
   "cell_type": "markdown",
   "metadata": {},
   "source": [
    "#### C.) $B$ \\ $A$ = $B \\cap A^\\complement$\n",
    "\n",
    "$B$ \\ $A$ = $B \\cap A^\\complement$ \\\n",
    "If $X \\in B$ \\ $A$, then $X \\notin A$ \\\n",
    "If $X \\notin A$, then $X \\in A^\\complement$ \\\n",
    "If $X \\in A^\\complement$, then $X \\in B \\land X \\in A^\\complement$ \\\n",
    "If $X \\in B \\land X \\in A^\\complement$, then $X \\in B \\cap A^\\complement$ \\\n",
    "Therefore, $B$ \\ $A$ = $B \\cap A^\\complement$"
   ]
  },
  {
   "cell_type": "markdown",
   "metadata": {},
   "source": [
    "#### D.) $A \\cup B$ = $A \\cup (B \\cap A^\\complement)$\n",
    "\n",
    "$A \\cup B$ = $A \\cup (B \\cap A^\\complement)$ \\\n",
    "If $X \\in A \\cup B$, then $X \\in A \\lor X \\in B$ \\\n",
    "If $X \\in A$, then $X \\in A \\cup (B \\cap A^\\complement)$ \\\n",
    "If $X \\in B$, then either $X \\in A \\lor X \\notin A$ \\\n",
    "If $X \\notin A$, then $X \\in B \\cap A^\\complement$ and thus $X \\in A \\cup (B \\cap A^\\complement)$\n",
    "\n",
    "\n",
    "Now if $X \\in A \\cup (B \\cap A^\\complement)$, then $X \\in A \\lor X \\in (B \\cap A^\\complement)$ \\\n",
    "If $X \\in A$, then $X \\in A \\cup B$ \\\n",
    " If $X \\in B \\cap A^\\complement$, then $X \\in B$ and thus $X \\in A \\cup B$ \\\n",
    "Therefore, in all cases, $X \\in A \\cup B$ \\\n",
    "Thus $A \\cup (B \\cap A^\\complement) \\subseteq A \\cup B$\n",
    "\n",
    "\n",
    "Since $A \\cup B \\subseteq A \\cup (B \\cap A^\\complement)$ and $A \\cup (B \\cap A^\\complement) \\subseteq A \\cup B$, then $A \\cup B = A \\cup (B \\cap A^\\complement)$"
   ]
  },
  {
   "cell_type": "markdown",
   "metadata": {},
   "source": [
    "### E.) $(\\cup_{i=1}^\\infty A_i^\\complement)^\\complement$ = $\\cap_i^\\infty A_i^\\complement$\n",
    "\n",
    "$(\\cup_{i=1}^\\infty A_i^\\complement)^\\complement$ = $\\cap_i^\\infty A_i^\\complement$ \\\n",
    "\n",
    "Left side: \\\n",
    "Assume $x \\in (\\cup_{i=1}^\\infty A_i^\\complement)^\\complement$. This means $x$ is not in the union of the complements of ($A_1, A_2, A_3, \\ldots$). Therefore, $x$ is not in the complement of any of these sets. In other words, for all $i$, $x \\notin A_i^\\complement$.\n",
    "\n",
    "This implies that $x$ is in the complement of each of the sets $A_i$, i.e., $x \\in A_i^\\complement$ for all $i$. Consequently, $x$ is in the intersection of the complements of the sets $A_1, A_2, A_3, \\ldots$ which is the right side: $\\cap_{i=1}^\\infty A_i^\\complement$.\n",
    "\n",
    "Right side: \\\n",
    "Now, assume an element $y$ is in the RHS (intersection of complements), i.e., $y \\in \\cap_{i=1}^\\infty A_i^\\complement$. This means $y$ is in the complement of each of the sets $A_1, A_2, A_3, \\ldots$. Therefore, $y$ is not in any of these sets, i.e., for all $i$, $y \\notin A_i$.\n",
    "\n",
    "This implies that $y$ is not in the union of these sets' originals, i.e., $y \\notin \\cup_{i=1}^\\infty A_i$. Consequently, $y$ is in the complement of the union of the complements, which is the LHS: $(\\cup_{i=1}^\\infty A_i^\\complement)^\\complement$.\n",
    "\n",
    "Since we have shown that any element from the left is also in the right and vice versa, the left side is equal to the right side. \\\n",
    "Hence, $(\\cup_{i=1}^\\infty "
   ]
  },
  {
   "cell_type": "markdown",
   "metadata": {},
   "source": [
    "### F.) |$A \\cup B$| = |$A$| + |$B$| - |$A \\cap B$| \\\n",
    "\n",
    "|$A \\cup B$| = |$A$| + |$B$| - |$A \\cap B$| \\\n",
    "**Claim:** For any two sets $A$ and $B$:\n",
    "$$\n",
    "|A \\cup B| = |A| + |B| - |A \\cap B|\n",
    "$$\n",
    "\n",
    "**Proof:** Let $|X|$ denote the cardinality of set $X$.\n",
    "\n",
    "Consider sets $A$ and $B$.\n",
    "\n",
    "- If $|A|$ denotes the cardinality of set $A$,\n",
    "- And if $|B|$ denotes the cardinality of set $B$,\n",
    "\n",
    "When we form the union of sets $A$ and $B$, denoted by $A \\cup B$, we intuitively expect its size to be the sum of the sizes of $A$ and $B$. That is,\n",
    "\n",
    "$$\n",
    "|A \\cup B| = |A| + |B|\n",
    "$$\n",
    "\n",
    "\n",
    "However, we need to account for the possibility that some elements might be common to both $A$ and $B$, i.e., they belong to their intersection, $A \\cap B$. To avoid counting these elements twice, we need to subtract the size of their intersection from the sum. If $|A \\cap B|$ represents the size of the intersection set,\n",
    "\n",
    "\n",
    "$$\n",
    "|A \\cup B| = |A| + |B| - |A \\cap B|\n",
    "$$\n",
    "\n",
    "\n",
    "This can be expressed as a conditional statement:\n",
    "If we take the union of sets $A$ and $B$, denoted by $A \\cup B$, then the size of this union is equal to the sum of the sizes of $A$ and $B$, minus the size of their intersection, $A \\cap B$.\n",
    "\n",
    "This completes the proof.\n",
    "\n",
    "--------------------------------------------------------------------------------------------------------------------------------------------------------------------------------------------------"
   ]
  },
  {
   "cell_type": "markdown",
   "metadata": {},
   "source": [
    "# Problem No. 2"
   ]
  },
  {
   "cell_type": "markdown",
   "metadata": {},
   "source": []
  },
  {
   "cell_type": "markdown",
   "metadata": {},
   "source": [
    "# Problem No. 3"
   ]
  },
  {
   "cell_type": "markdown",
   "metadata": {},
   "source": [
    "### Latex Solution\n",
    "\n",
    "U = {1,2,3,4,5} \\\n",
    "A = {1,2,3,4,5} \\\n",
    "B = {4,5,6,7} \\\n",
    "C = {5,6,7,8,9} \\\n",
    "D = {1,3,5,7,9} \\\n",
    "E = {2,4,6,8} \\\n",
    "F = {1,5,6}\n",
    "\n",
    "Symmetric Difference of C and D \\\n",
    "$C \\oplus D = \\{5,6,7,8,9\\}$ \\ $\\{1,3,5,7,9\\} = \\{1,3,6,8\\}$\n",
    "\n",
    "Set Difference of A and B \\\n",
    "$A - B = \\{1,2,3,4,5\\} - \\{4,5,6,7\\} = \\{1,2,3\\}$\n",
    "\n",
    "Set Difference of B and A \\\n",
    "$B - A = \\{4,5,6,7\\} - \\{1,2,3,4,5\\} = \\{6,7\\}$\n",
    "\n",
    "Symmetric Difference of E and F \\\n",
    "$E \\oplus F = \\{2,4,6,8\\}$ \\ $\\{1,5,6\\} = \\{1,2,4,5,8\\}$"
   ]
  },
  {
   "cell_type": "code",
   "execution_count": 4,
   "metadata": {},
   "outputs": [
    {
     "name": "stdout",
     "output_type": "stream",
     "text": [
      "Symmetric Difference of C and D:  {1, 3, 6, 8}\n",
      "Set Difference of A and B:  {1, 2, 3}\n",
      "Set Difference of B and A:  {6, 7}\n",
      "Symmetric Difference of E and F:  {1, 2, 4, 5, 8}\n"
     ]
    }
   ],
   "source": [
    "U = {1,2,3,4,5}\n",
    "A = {1,2,3,4,5}\n",
    "B = {4,5,6,7,}\n",
    "C = {5,6,7,8,9}\n",
    "D = {1,3,5,7,9}\n",
    "E = {2,4,6,8}\n",
    "F = {1,5,6}\n",
    "\n",
    "C_symmetric_D = C ^ D\n",
    "A_difference_B = A - B\n",
    "B_difference_A = B - A\n",
    "E_symmetric_F = E ^ F\n",
    "\n",
    "print('Symmetric Difference of C and D: ', C_symmetric_D)\n",
    "print('Set Difference of A and B: ', A_difference_B)\n",
    "print('Set Difference of B and A: ', B_difference_A)\n",
    "print('Symmetric Difference of E and F: ', E_symmetric_F)"
   ]
  },
  {
   "cell_type": "markdown",
   "metadata": {},
   "source": [
    "# Problem No. 4"
   ]
  },
  {
   "cell_type": "markdown",
   "metadata": {},
   "source": []
  }
 ],
 "metadata": {
  "kernelspec": {
   "display_name": "Python 3",
   "language": "python",
   "name": "python3"
  },
  "language_info": {
   "codemirror_mode": {
    "name": "ipython",
    "version": 3
   },
   "file_extension": ".py",
   "mimetype": "text/x-python",
   "name": "python",
   "nbconvert_exporter": "python",
   "pygments_lexer": "ipython3",
   "version": "3.11.5"
  },
  "orig_nbformat": 4
 },
 "nbformat": 4,
 "nbformat_minor": 2
}
